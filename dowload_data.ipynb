{
 "cells": [
  {
   "cell_type": "code",
   "execution_count": null,
   "id": "cfe858d1",
   "metadata": {},
   "outputs": [],
   "source": [
    "!wget http://data.vision.ee.ethz.ch/cvl/DIV2K/DIV2K_train_HR.zip\n",
    "!wget http://data.vision.ee.ethz.ch/cvl/DIV2K/DIV2K_valid_HR.zip"
   ]
  },
  {
   "cell_type": "code",
   "execution_count": null,
   "id": "daa388f0",
   "metadata": {},
   "outputs": [],
   "source": [
    "!wget http://data.vision.ee.ethz.ch/cvl/DIV2K/DIV2K_train_LR_bicubic_X4.zip\n",
    "!wget http://data.vision.ee.ethz.ch/cvl/DIV2K/DIV2K_valid_LR_bicubic_X4.zip"
   ]
  },
  {
   "cell_type": "code",
   "execution_count": null,
   "id": "3443135f",
   "metadata": {},
   "outputs": [],
   "source": [
    "!mkdir div2kdata"
   ]
  },
  {
   "cell_type": "code",
   "execution_count": null,
   "id": "eefa0776",
   "metadata": {},
   "outputs": [],
   "source": [
    "!unzip -q DIV2K_train_HR.zip -d div2kdata\n",
    "!unzip -q DIV2K_valid_HR.zip -d div2kdata"
   ]
  },
  {
   "cell_type": "code",
   "execution_count": null,
   "id": "ac40999c",
   "metadata": {},
   "outputs": [],
   "source": [
    "!unzip -q DIV2K_valid_LR_bicubic_X4.zip -d div2kdata\n",
    "!unzip -q DIV2K_train_LR_bicubic_X4.zip -d div2kdata"
   ]
  }
 ],
 "metadata": {
  "kernelspec": {
   "display_name": "Python 3.8 - Tensorflow",
   "language": "python",
   "name": "azureml_py38_tensorflow"
  },
  "language_info": {
   "codemirror_mode": {
    "name": "ipython",
    "version": 3
   },
   "file_extension": ".py",
   "mimetype": "text/x-python",
   "name": "python",
   "nbconvert_exporter": "python",
   "pygments_lexer": "ipython3",
   "version": "3.8.1"
  }
 },
 "nbformat": 4,
 "nbformat_minor": 5
}
